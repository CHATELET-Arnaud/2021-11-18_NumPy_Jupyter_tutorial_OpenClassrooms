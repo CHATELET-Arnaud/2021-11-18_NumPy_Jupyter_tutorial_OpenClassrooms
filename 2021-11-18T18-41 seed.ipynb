{
 "cells": [
  {
   "cell_type": "code",
   "execution_count": 2,
   "id": "3723842b",
   "metadata": {},
   "outputs": [
    {
     "name": "stdout",
     "output_type": "stream",
     "text": [
      "premier nb aléatoire 33\n",
      "deuxième nb aléatoire 26\n",
      "premier nb aléatoire 17\n",
      "deuxième nb aléatoire 72\n",
      "premier nb aléatoire 17\n",
      "deuxième nb aléatoire 72\n"
     ]
    }
   ],
   "source": [
    "from random import randint, seed\n",
    "seed()\n",
    "print(\"premier nb aléatoire {}\".format(randint(0,100)))\n",
    "print(\"deuxième nb aléatoire {}\".format(randint(0,100)))\n",
    "\n",
    "seed(1)\n",
    "print(\"premier nb aléatoire {}\".format(randint(0,100)))\n",
    "print(\"deuxième nb aléatoire {}\".format(randint(0,100)))\n",
    "\n",
    "seed(1)\n",
    "print(\"premier nb aléatoire {}\".format(randint(0,100)))\n",
    "print(\"deuxième nb aléatoire {}\".format(randint(0,100)))"
   ]
  },
  {
   "cell_type": "code",
   "execution_count": null,
   "id": "ad9000ee",
   "metadata": {},
   "outputs": [],
   "source": []
  }
 ],
 "metadata": {
  "kernelspec": {
   "display_name": "Python 3 (ipykernel)",
   "language": "python",
   "name": "python3"
  },
  "language_info": {
   "codemirror_mode": {
    "name": "ipython",
    "version": 3
   },
   "file_extension": ".py",
   "mimetype": "text/x-python",
   "name": "python",
   "nbconvert_exporter": "python",
   "pygments_lexer": "ipython3",
   "version": "3.9.7"
  }
 },
 "nbformat": 4,
 "nbformat_minor": 5
}
