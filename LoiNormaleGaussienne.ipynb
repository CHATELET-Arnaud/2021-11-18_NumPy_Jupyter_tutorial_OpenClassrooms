{
 "cells": [
  {
   "cell_type": "code",
   "execution_count": null,
   "id": "9e51261b",
   "metadata": {},
   "outputs": [],
   "source": [
    "%matplotlib inline\n",
    "import numpy as np\n",
    "import matplotlib.pyplot as plt\n",
    "from math import sqrt, pi, exp\n",
    "domaine = range(-100,100)\n",
    "mu = 0\n",
    "sigma = 20\n",
    "\n",
    "f = lambda x : 1/(sigma*sqrt(2*pi)) * exp(-pow((x-mu),2)/(2*pow(sigma,2)))\n",
    "\n",
    "y = [f(x) for x in domaine]"
   ]
  }
 ],
 "metadata": {
  "kernelspec": {
   "display_name": "Python 3 (ipykernel)",
   "language": "python",
   "name": "python3"
  },
  "language_info": {
   "codemirror_mode": {
    "name": "ipython",
    "version": 3
   },
   "file_extension": ".py",
   "mimetype": "text/x-python",
   "name": "python",
   "nbconvert_exporter": "python",
   "pygments_lexer": "ipython3",
   "version": "3.9.7"
  }
 },
 "nbformat": 4,
 "nbformat_minor": 5
}
