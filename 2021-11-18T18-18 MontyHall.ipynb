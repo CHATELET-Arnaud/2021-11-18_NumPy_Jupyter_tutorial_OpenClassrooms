{
 "cells": [
  {
   "cell_type": "code",
   "execution_count": null,
   "id": "cf097c11",
   "metadata": {},
   "outputs": [],
   "source": [
    "%matplotlib inline\n",
    "from random import randint, seed\n",
    "#hop commentaire\n",
    "from enum import Enum\n",
    "import matplotlib.pyplot as plt\n",
    "class Strategie(Enum):\n",
    "    CHANGER = 1\n",
    "    GARDER = 2\n",
    "seed()\n",
    "\n",
    "def play_game(strategie):\n",
    "    '''Simule une partie du jeu Monty Hall\n",
    "    \n",
    "    Cette fonction simule le choix de la porte par le participant\n",
    "    \n",
    "    Args:\n",
    "        strategie (Strategie): la stratégie du joueur\n",
    "        \n",
    "    Returns:\n",
    "        bool: le joueur a-t-il gagné ?\n",
    "    '''\n",
    "    portes = [0,1,2]\n",
    "    bonne_porte = randint(0,2)\n",
    "    premier_choix = randint(0,2)\n",
    "    portes.remove(premier_choix)\n",
    "    \n",
    "    if premier_choix == bonne_porte\n",
    "        portes.remove(portes[randint(0,1)])\n",
    "    else:\n",
    "        portes = [bonne_porte]\n",
    "        \n",
    "    deuxieme_choix = 0\n",
    "    if strategie == Strategie.CHANGER:\n",
    "        deuxieme_choix = portes[0]\n",
    "    elif strategie == Strategie.GARDER:\n",
    "        deuxieme_choix = premier_choix\n",
    "    else:\n",
    "        raise ValueError(\"Stratégie non reconnue !\")\n",
    "        \n",
    "    return deuxieme_choix == bonne_porte\n",
    "    "
   ]
  }
 ],
 "metadata": {
  "kernelspec": {
   "display_name": "Python 3 (ipykernel)",
   "language": "python",
   "name": "python3"
  },
  "language_info": {
   "codemirror_mode": {
    "name": "ipython",
    "version": 3
   },
   "file_extension": ".py",
   "mimetype": "text/x-python",
   "name": "python",
   "nbconvert_exporter": "python",
   "pygments_lexer": "ipython3",
   "version": "3.9.7"
  }
 },
 "nbformat": 4,
 "nbformat_minor": 5
}
