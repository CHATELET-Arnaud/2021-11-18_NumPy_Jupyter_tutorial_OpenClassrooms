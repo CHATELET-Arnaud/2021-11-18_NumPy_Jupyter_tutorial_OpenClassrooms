{
 "cells": [
  {
   "cell_type": "code",
   "execution_count": 4,
   "id": "5ad2cfa6",
   "metadata": {},
   "outputs": [
    {
     "data": {
      "text/plain": [
       "False"
      ]
     },
     "execution_count": 4,
     "metadata": {},
     "output_type": "execute_result"
    }
   ],
   "source": [
    "%matplotlib inline\n",
    "from random import randint, seed\n",
    "#hop commentaire\n",
    "from enum import Enum\n",
    "import matplotlib.pyplot as plt\n",
    "class Strategie(Enum):\n",
    "    CHANGER = 1\n",
    "    GARDER = 2\n",
    "seed()\n",
    "\n",
    "def play_game(strategie):\n",
    "    '''Simule une partie du jeu Monty Hall\n",
    "    \n",
    "    Cette fonction simule le choix de la porte par le participant\n",
    "    \n",
    "    Args:\n",
    "        strategie (Strategie): la stratégie du joueur\n",
    "        \n",
    "    Returns:\n",
    "        bool: le joueur a-t-il gagné ?\n",
    "    '''\n",
    "    portes = [0,1,2]\n",
    "    bonne_porte = randint(0,2)\n",
    "    premier_choix = randint(0,2)\n",
    "    portes.remove(premier_choix)\n",
    "    \n",
    "    if premier_choix == bonne_porte:\n",
    "        portes.remove(portes[randint(0,1)])\n",
    "    else:\n",
    "        portes = [bonne_porte]\n",
    "        \n",
    "    deuxieme_choix = 0\n",
    "    if strategie == Strategie.CHANGER:\n",
    "        deuxieme_choix = portes[0]\n",
    "    elif strategie == Strategie.GARDER:\n",
    "        deuxieme_choix = premier_choix\n",
    "    else:\n",
    "        raise ValueError(\"Stratégie non reconnue !\")\n",
    "        \n",
    "    return deuxieme_choix == bonne_porte\n",
    "    \n",
    "play_game(Strategie.CHANGER)"
   ]
  },
  {
   "cell_type": "code",
   "execution_count": 5,
   "id": "502e478c",
   "metadata": {},
   "outputs": [
    {
     "data": {
      "text/plain": [
       "False"
      ]
     },
     "execution_count": 5,
     "metadata": {},
     "output_type": "execute_result"
    }
   ],
   "source": [
    "play_game(Strategie.CHANGER)"
   ]
  },
  {
   "cell_type": "code",
   "execution_count": 6,
   "id": "16ec1081",
   "metadata": {},
   "outputs": [
    {
     "data": {
      "text/plain": [
       "False"
      ]
     },
     "execution_count": 6,
     "metadata": {},
     "output_type": "execute_result"
    }
   ],
   "source": [
    "play_game(Strategie.CHANGER)"
   ]
  },
  {
   "cell_type": "code",
   "execution_count": 7,
   "id": "159cad7d",
   "metadata": {},
   "outputs": [
    {
     "data": {
      "text/plain": [
       "True"
      ]
     },
     "execution_count": 7,
     "metadata": {},
     "output_type": "execute_result"
    }
   ],
   "source": [
    "play_game(Strategie.CHANGER)"
   ]
  },
  {
   "cell_type": "code",
   "execution_count": 8,
   "id": "44406ed0",
   "metadata": {},
   "outputs": [
    {
     "data": {
      "text/plain": [
       "True"
      ]
     },
     "execution_count": 8,
     "metadata": {},
     "output_type": "execute_result"
    }
   ],
   "source": [
    "play_game(Strategie.CHANGER)"
   ]
  },
  {
   "cell_type": "code",
   "execution_count": 11,
   "id": "465a135c",
   "metadata": {},
   "outputs": [
    {
     "name": "stdout",
     "output_type": "stream",
     "text": [
      "En changeant de porte, le joueur a gagné 6632 sur 10000 parties.\n",
      "En gardant son choix initial, le joueur a gagné 3357 sur 10000 parties.\n"
     ]
    }
   ],
   "source": [
    "def play(strategie, nb_tours):\n",
    "    '''\n",
    "    Simule une suite de tours de jeu\n",
    "    \n",
    "    Renvoie une liste de résultats de jeu\n",
    "    \n",
    "    Args:\n",
    "        strategie (Strategie): la stratégie du joueur\n",
    "        nb_tours (int): nombre de tours\n",
    "        \n",
    "    Returns:\n",
    "        list: listes des gains du joueur\n",
    "    '''\n",
    "    \n",
    "    return[1 if play_game(strategie) else 0 for i in range(nb_tours)]\n",
    "\n",
    "print(\"En changeant de porte, le joueur a gagné {} sur 10000 parties.\"\n",
    "     .format(sum(play(Strategie.CHANGER, 10000))))\n",
    "\n",
    "print(\"En gardant son choix initial, le joueur a gagné {} sur 10000 parties.\"\n",
    "     .format(sum(play(Strategie.GARDER, 10000))))"
   ]
  },
  {
   "cell_type": "code",
   "execution_count": 12,
   "id": "a4795313",
   "metadata": {},
   "outputs": [
    {
     "data": {
      "image/png": "[encoded data removed]",
      "text/plain": [
       "<Figure size 432x288 with 1 Axes>"
      ]
     },
     "metadata": {
      "needs_background": "light"
     },
     "output_type": "display_data"
    }
   ],
   "source": [
    "plot = plt.plot(play(Strategie.CHANGER, 10))"
   ]
  },
  {
   "cell_type": "code",
   "execution_count": 14,
   "id": "357cd665",
   "metadata": {},
   "outputs": [
    {
     "data": {
      "image/png": "[encoded data removed]",
      "text/plain": [
       "<Figure size 432x288 with 1 Axes>"
      ]
     },
     "metadata": {
      "needs_background": "light"
     },
     "output_type": "display_data"
    }
   ],
   "source": [
    "plot = plt.scatter(range(10), play(Strategie.CHANGER, 10))"
   ]
  },
  {
   "cell_type": "code",
   "execution_count": 16,
   "id": "d984a26a",
   "metadata": {},
   "outputs": [
    {
     "data": {
      "image/png": "[encoded data removed]",
      "text/plain": [
       "<Figure size 432x288 with 1 Axes>"
      ]
     },
     "metadata": {
      "needs_background": "light"
     },
     "output_type": "display_data"
    }
   ],
   "source": [
    "nb_test = 10000\n",
    "plot = plt.bar([1,2], [sum(play(Strategie.CHANGER, nb_test)),\n",
    "                      sum(play(Strategie.GARDER, nb_test))],\n",
    "               tick_label=[\"Changer\",\"Garder\"])"
   ]
  },
  {
   "cell_type": "code",
   "execution_count": 19,
   "id": "6706cca1",
   "metadata": {},
   "outputs": [
    {
     "data": {
      "image/png": "[encoded data removed]",
      "text/plain": [
       "<Figure size 432x288 with 1 Axes>"
      ]
     },
     "metadata": {
      "needs_background": "light"
     },
     "output_type": "display_data"
    }
   ],
   "source": [
    "gains_changer = []\n",
    "gains_garder = []\n",
    "samples = [1000, 10000, 20000, 50000, 80000, 100000]\n",
    "for tours in samples:\n",
    "    gains_changer.append(play(Strategie.CHANGER, tours))\n",
    "    gains_garder.append(play(Strategie.GARDER, tours))\n",
    "figure = plt.figure()\n",
    "plot = plt.scatter(samples, [sum(x) for x in gains_changer])\n",
    "plot = plt.scatter(samples, [sum(x) for x in gains_garder])"
   ]
  },
  {
   "cell_type": "code",
   "execution_count": 22,
   "id": "f248288f",
   "metadata": {},
   "outputs": [
    {
     "data": {
      "image/png": "[encoded data removed]",
      "text/plain": [
       "<Figure size 432x288 with 1 Axes>"
      ]
     },
     "metadata": {
      "needs_background": "light"
     },
     "output_type": "display_data"
    }
   ],
   "source": [
    "figure = plt.figure()\n",
    "plot = plt.scatter(samples, [sum(x)/samples[gains_changer.index(x)] for x in gains_changer])\n",
    "plot = plt.scatter(samples, [sum(x)/samples[gains_garder.index(x)] for x in gains_garder])"
   ]
  },
  {
   "cell_type": "code",
   "execution_count": null,
   "id": "ca69df1c",
   "metadata": {},
   "outputs": [],
   "source": []
  }
 ],
 "metadata": {
  "kernelspec": {
   "display_name": "Python 3 (ipykernel)",
   "language": "python",
   "name": "python3"
  },
  "language_info": {
   "codemirror_mode": {
    "name": "ipython",
    "version": 3
   },
   "file_extension": ".py",
   "mimetype": "text/x-python",
   "name": "python",
   "nbconvert_exporter": "python",
   "pygments_lexer": "ipython3",
   "version": "3.9.7"
  }
 },
 "nbformat": 4,
 "nbformat_minor": 5
}
